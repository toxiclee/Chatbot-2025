{
 "cells": [
  {
   "cell_type": "code",
   "execution_count": 1,
   "id": "7b4defaa-8522-4b1a-a4d2-26615bbf719b",
   "metadata": {},
   "outputs": [
    {
     "name": "stderr",
     "output_type": "stream",
     "text": [
      "Embedding: 100%|██████████| 5901/5901 [59:11<00:00,  1.66it/s]  \n"
     ]
    },
    {
     "name": "stdout",
     "output_type": "stream",
     "text": [
      "✅ 嵌入向量保存成功：/gpfs/gibbs/project/yse/shared/yl2739/combined_chunks_with_qwen_embedding.csv\n"
     ]
    }
   ],
   "source": [
    "import pandas as pd\n",
    "import torch\n",
    "from transformers import AutoTokenizer, AutoModel\n",
    "from tqdm import tqdm\n",
    "\n",
    "\n",
    "MODEL_NAME = \"Qwen/Qwen3-Embedding-0.6B\"\n",
    "\n",
    "# === 加载 tokenizer 和 model ===\n",
    "tokenizer = AutoTokenizer.from_pretrained(MODEL_NAME)\n",
    "model = AutoModel.from_pretrained(MODEL_NAME, trust_remote_code=True, device_map=\"auto\")\n",
    "\n",
    "# === 读取 CSV 文件 ===\n",
    "csv_path = \"/gpfs/gibbs/project/yse/shared/yl2739/combined_chunks (1).csv\"  # 请根据需要修改路径\n",
    "df = pd.read_csv(csv_path)\n",
    "\n",
    "# === 检查 content 列是否存在 ===\n",
    "if \"content\" not in df.columns:\n",
    "    raise ValueError(\"CSV 文件中没有名为 'content' 的列。请确认列名是否正确。\")\n",
    "\n",
    "# === 生成 embeddings 的函数 ===\n",
    "def get_embeddings(texts, batch_size=16):\n",
    "    embeddings = []\n",
    "    for i in tqdm(range(0, len(texts), batch_size), desc=\"Embedding\"):\n",
    "        batch_texts = texts[i:i+batch_size]\n",
    "        inputs = tokenizer(batch_texts, padding=True, truncation=True, return_tensors=\"pt\", max_length=512)\n",
    "        inputs = {k: v.to(model.device) for k, v in inputs.items()}\n",
    "        with torch.no_grad():\n",
    "            outputs = model(**inputs)\n",
    "            # 使用 CLS token 的输出作为 embedding\n",
    "            batch_embeddings = outputs.last_hidden_state[:, 0, :].cpu()\n",
    "            embeddings.extend(batch_embeddings.numpy())\n",
    "    return embeddings\n",
    "\n",
    "# === 获取所有 content 的向量 ===\n",
    "all_texts = df[\"content\"].fillna(\"\").astype(str).tolist()\n",
    "embeddings = get_embeddings(all_texts)\n",
    "\n",
    "# === 将 embeddings 添加到 DataFrame 或另存为文件 ===\n",
    "import numpy as np\n",
    "\n",
    "embedding_dim = len(embeddings[0])\n",
    "embedding_columns = [f\"emb_{i}\" for i in range(embedding_dim)]\n",
    "emb_df = pd.DataFrame(embeddings, columns=embedding_columns)\n",
    "\n",
    "# 合并原始信息与 embedding 向量\n",
    "result_df = pd.concat([df.reset_index(drop=True), emb_df], axis=1)\n",
    "\n",
    "# === 保存结果 ===\n",
    "output_path = \"/gpfs/gibbs/project/yse/shared/yl2739/combined_chunks_with_qwen_embedding.csv\"\n",
    "result_df.to_csv(output_path, index=False)\n",
    "print(f\"✅ 嵌入向量保存成功：{output_path}\")\n"
   ]
  },
  {
   "cell_type": "code",
   "execution_count": 3,
   "id": "f52ad4c0-3eef-45f2-b719-fdc6c3e012b2",
   "metadata": {},
   "outputs": [
    {
     "name": "stdout",
     "output_type": "stream",
     "text": [
      "/home/yl2739/.conda/envs/myenv/bin/python\n"
     ]
    }
   ],
   "source": [
    "import sys\n",
    "print(sys.executable)"
   ]
  },
  {
   "cell_type": "code",
   "execution_count": 4,
   "id": "491151e3-4b25-4a68-8efb-313345cf82bd",
   "metadata": {},
   "outputs": [
    {
     "name": "stdout",
     "output_type": "stream",
     "text": [
      "1.9.0\n"
     ]
    }
   ],
   "source": [
    "import accelerate\n",
    "print(accelerate.__version__)\n"
   ]
  },
  {
   "cell_type": "code",
   "execution_count": 1,
   "id": "a9915777-8f00-402b-a6e6-5a4bdec33fb9",
   "metadata": {},
   "outputs": [
    {
     "name": "stdout",
     "output_type": "stream",
     "text": [
      "False\n"
     ]
    }
   ],
   "source": [
    "import torch\n",
    "print(torch.cuda.is_available())  # 如果是 False，就确实没法用 GPU\n"
   ]
  },
  {
   "cell_type": "code",
   "execution_count": null,
   "id": "00a518d2-c846-4c11-9e8f-ee250718cbcb",
   "metadata": {},
   "outputs": [],
   "source": []
  }
 ],
 "metadata": {
  "kernelspec": {
   "display_name": "Python (myenv)",
   "language": "python",
   "name": "myenv"
  },
  "language_info": {
   "codemirror_mode": {
    "name": "ipython",
    "version": 3
   },
   "file_extension": ".py",
   "mimetype": "text/x-python",
   "name": "python",
   "nbconvert_exporter": "python",
   "pygments_lexer": "ipython3",
   "version": "3.10.18"
  }
 },
 "nbformat": 4,
 "nbformat_minor": 5
}
